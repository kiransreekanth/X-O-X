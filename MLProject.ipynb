{
  "nbformat": 4,
  "nbformat_minor": 0,
  "metadata": {
    "colab": {
      "provenance": [],
      "authorship_tag": "ABX9TyMQNGbxf1ipc42FNr76/n5D",
      "include_colab_link": true
    },
    "kernelspec": {
      "name": "python3",
      "display_name": "Python 3"
    },
    "language_info": {
      "name": "python"
    }
  },
  "cells": [
    {
      "cell_type": "markdown",
      "metadata": {
        "id": "view-in-github",
        "colab_type": "text"
      },
      "source": [
        "<a href=\"https://colab.research.google.com/github/kiransreekanth/x-o-x/blob/main/MLProject.ipynb\" target=\"_parent\"><img src=\"https://colab.research.google.com/assets/colab-badge.svg\" alt=\"Open In Colab\"/></a>"
      ]
    },
    {
      "cell_type": "code",
      "execution_count": 1,
      "metadata": {
        "id": "tnNlotR0Hs4Z"
      },
      "outputs": [],
      "source": [
        "import random"
      ]
    },
    {
      "cell_type": "code",
      "source": [
        "# Function to print the Tic-Tac-Toe board\n",
        "def print_board(board):\n",
        "    for row in board:\n",
        "        print(\" | \".join(row))\n",
        "        print(\"-\" * 5)"
      ],
      "metadata": {
        "id": "g04F89mfH8x0"
      },
      "execution_count": 2,
      "outputs": []
    },
    {
      "cell_type": "code",
      "source": [
        "# Function to check if a player has won\n",
        "def check_win(board, player):\n",
        "    for row in board:\n",
        "        if all([cell == player for cell in row]):\n",
        "            return True\n",
        "\n",
        "    for col in range(3):\n",
        "        if all([board[row][col] == player for row in range(3)]):\n",
        "            return True\n",
        "\n",
        "    if all([board[i][i] == player for i in range(3)]) or \\\n",
        "       all([board[i][2-i] == player for i in range(3)]):\n",
        "        return True\n",
        "\n",
        "    return False"
      ],
      "metadata": {
        "id": "MjVcobpOIKT_"
      },
      "execution_count": 4,
      "outputs": []
    },
    {
      "cell_type": "code",
      "source": [
        "# Function to check if the board is full\n",
        "def check_draw(board):\n",
        "    for row in board:\n",
        "        if \" \" in row:\n",
        "            return False\n",
        "    return True"
      ],
      "metadata": {
        "id": "tYjRyqdTIS3m"
      },
      "execution_count": 5,
      "outputs": []
    },
    {
      "cell_type": "code",
      "source": [
        "# Function for the machine learning model to make a move\n",
        "def machine_move(board):\n",
        "    empty_cells = [(i, j) for i in range(3) for j in range(3) if board[i][j] == \" \"]\n",
        "    return random.choice(empty_cells)"
      ],
      "metadata": {
        "id": "wvjsSFF_IX0n"
      },
      "execution_count": 6,
      "outputs": []
    },
    {
      "cell_type": "code",
      "source": [
        "# Main function to run the game\n",
        "def play_game():\n",
        "    board = [[\" \" for _ in range(3)] for _ in range(3)]\n",
        "    print(\"Welcome to Tic-Tac-Toe!\")\n",
        "    print_board(board)\n",
        "\n",
        "    while True:\n",
        "        # User's move\n",
        "        row, col = map(int, input(\"Enter row and column (0-2) for your move (e.g., 0 1): \").split())\n",
        "        if board[row][col] != \" \":\n",
        "            print(\"Invalid move. Try again.\")\n",
        "            continue\n",
        "        board[row][col] = \"X\"\n",
        "        print_board(board)\n",
        "\n",
        "        # Check if the user wins\n",
        "        if check_win(board, \"X\"):\n",
        "            print(\"Congratulations! You win!\")\n",
        "            break\n",
        "\n",
        "        # Check for a draw\n",
        "        if check_draw(board):\n",
        "            print(\"It's a draw!\")\n",
        "            break\n",
        "\n",
        "        # Machine's move\n",
        "        print(\"Machine's move:\")\n",
        "        row, col = machine_move(board)\n",
        "        board[row][col] = \"O\"\n",
        "        print_board(board)\n",
        "\n",
        "        # Check if the machine wins\n",
        "        if check_win(board, \"O\"):\n",
        "            print(\"Sorry, you lose. Better luck next time!\")\n",
        "            break\n",
        "\n",
        "        # Check for a draw\n",
        "        if check_draw(board):\n",
        "            print(\"It's a draw!\")\n",
        "            break\n",
        "\n",
        "# Start the game\n",
        "play_game()"
      ],
      "metadata": {
        "colab": {
          "base_uri": "https://localhost:8080/"
        },
        "id": "uxX72GJoIe30",
        "outputId": "de323efd-a57b-40e9-8963-480609333714"
      },
      "execution_count": 8,
      "outputs": [
        {
          "output_type": "stream",
          "name": "stdout",
          "text": [
            "Welcome to Tic-Tac-Toe!\n",
            "  |   |  \n",
            "-----\n",
            "  |   |  \n",
            "-----\n",
            "  |   |  \n",
            "-----\n",
            "Enter row and column (0-2) for your move (e.g., 0 1): 0 1\n",
            "  | X |  \n",
            "-----\n",
            "  |   |  \n",
            "-----\n",
            "  |   |  \n",
            "-----\n",
            "Machine's move:\n",
            "  | X | O\n",
            "-----\n",
            "  |   |  \n",
            "-----\n",
            "  |   |  \n",
            "-----\n",
            "Enter row and column (0-2) for your move (e.g., 0 1): 1 1\n",
            "  | X | O\n",
            "-----\n",
            "  | X |  \n",
            "-----\n",
            "  |   |  \n",
            "-----\n",
            "Machine's move:\n",
            "  | X | O\n",
            "-----\n",
            "  | X | O\n",
            "-----\n",
            "  |   |  \n",
            "-----\n",
            "Enter row and column (0-2) for your move (e.g., 0 1): 2 1\n",
            "  | X | O\n",
            "-----\n",
            "  | X | O\n",
            "-----\n",
            "  | X |  \n",
            "-----\n",
            "Congratulations! You win!\n"
          ]
        }
      ]
    }
  ]
}